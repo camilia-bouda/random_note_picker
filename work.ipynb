{
 "cells": [
  {
   "cell_type": "code",
   "execution_count": 10,
   "metadata": {},
   "outputs": [],
   "source": [
    "import random\n",
    "\n",
    "all_notes = ['A', 'B', 'C', 'D', 'E', 'F', 'G']\n",
    "\n",
    "def random_note_picker(notes : list) -> str:\n",
    "    selected_note = random.choice(notes)\n",
    "    \n",
    "    return selected_note\n",
    "\n",
    "def update_notes_list(notes: list, selected_note: str) -> list:\n",
    "    if len(notes) > 1:\n",
    "        return notes.remove(selected_note)\n",
    "    else:\n",
    "        return notes\n"
   ]
  },
  {
   "cell_type": "code",
   "execution_count": 11,
   "metadata": {},
   "outputs": [
    {
     "name": "stdout",
     "output_type": "stream",
     "text": [
      "E\n"
     ]
    }
   ],
   "source": [
    "first_note = random_note_picker(all_notes)\n",
    "update_notes_list(all_notes, first_note)\n",
    "\n",
    "print(first_note)"
   ]
  },
  {
   "cell_type": "code",
   "execution_count": 13,
   "metadata": {},
   "outputs": [
    {
     "name": "stdout",
     "output_type": "stream",
     "text": [
      "A\n"
     ]
    }
   ],
   "source": [
    "note = random_note_picker(all_notes)\n",
    "update_notes_list(all_notes, note)\n",
    "\n",
    "print(note)"
   ]
  }
 ],
 "metadata": {
  "kernelspec": {
   "display_name": "venv",
   "language": "python",
   "name": "python3"
  },
  "language_info": {
   "codemirror_mode": {
    "name": "ipython",
    "version": 3
   },
   "file_extension": ".py",
   "mimetype": "text/x-python",
   "name": "python",
   "nbconvert_exporter": "python",
   "pygments_lexer": "ipython3",
   "version": "3.9.7"
  },
  "orig_nbformat": 4
 },
 "nbformat": 4,
 "nbformat_minor": 2
}
